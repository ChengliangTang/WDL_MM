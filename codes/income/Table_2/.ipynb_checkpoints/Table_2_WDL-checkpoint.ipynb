{
 "cells": [
  {
   "cell_type": "code",
   "execution_count": null,
   "metadata": {},
   "outputs": [],
   "source": [
    "## This Jupyter notebook reproduces the results for WDL in Table 1"
   ]
  },
  {
   "cell_type": "code",
   "execution_count": null,
   "metadata": {},
   "outputs": [],
   "source": [
    "# import packages\n",
    "import os, sys\n",
    "sys.path.append('../../../lib/')\n",
    "import WDL as wp\n",
    "import numpy as np\n",
    "import pandas as pd\n",
    "import matplotlib.pyplot as plt\n",
    "from datetime import datetime\n",
    "from sklearn.model_selection import train_test_split"
   ]
  },
  {
   "cell_type": "code",
   "execution_count": null,
   "metadata": {},
   "outputs": [],
   "source": [
    "# load data\n",
    "X = pd.read_csv('../../../data/income/processed/dat_X.csv').to_numpy()\n",
    "Y = pd.read_csv('../../../data/income/processed/dat_Y.csv').to_numpy()\n",
    "loc_cv = pd.read_csv('../../../data/income/processed/dat_CV.csv').to_numpy().flatten()"
   ]
  },
  {
   "cell_type": "code",
   "execution_count": null,
   "metadata": {},
   "outputs": [],
   "source": [
    "# nested cross validation\n",
    "n_dist = Y.shape[0]\n",
    "n_levs = 100\n",
    "n_fold = np.max(loc_cv) + 1\n",
    "q_vec = np.arange(1, n_levs) / n_levs\n",
    "## transform Y\n",
    "Q_mat = np.array([np.quantile(Y[i], q_vec) for i in range(n_dist)])\n",
    "Q_train = np.zeros((Q_mat.shape[0], Q_mat.shape[1], n_fold))\n",
    "Q_test = np.zeros(Q_mat.shape)\n",
    "\n",
    "K_list = [2, 3, 5]\n",
    "lr_list = [1e-1, 1e-2]\n",
    "n_iter = 1000\n",
    "## outer loop\n",
    "time_start = datetime.now()\n",
    "print('Start training:', time_start)\n",
    "for i in range(n_fold):\n",
    "    print('This is fold', str(i+1))\n",
    "    X_train = X[loc_cv != i]\n",
    "    Y_train = Q_mat[loc_cv != i]\n",
    "    X_test = X[loc_cv == i]\n",
    "    Y_test = Q_mat[loc_cv == i]\n",
    "    \n",
    "    n_test = Y_test.shape[0]\n",
    "    n_train = Y_train.shape[0]\n",
    "    \n",
    "    ## inner parameter selection\n",
    "    X_t_in, X_v_in, Y_t_in, Y_v_in = train_test_split(X_train, Y_train, test_size=0.25, random_state=2022)\n",
    "    par_combo = [(K, lr) for K in K_list for lr in lr_list]\n",
    "    loss_ = []\n",
    "    iters_ = []\n",
    "    for K_mix, lr in par_combo:\n",
    "        print(K_mix, lr)\n",
    "        res_init = wp.WDL(X_t_in, Y_t_in, X_v_in, Y_v_in,\n",
    "                          q_vec=q_vec, K=K_mix, max_iter=n_iter, warm_up=1, max_depth=1, \n",
    "                          patience=10, lr=lr, random_state=2022)\n",
    "        iters_.append(res_init['iter_best'])\n",
    "        loss_.append(res_init['val_loss'][res_init['iter_best']])\n",
    "        \n",
    "    ## choose the best params\n",
    "    K_best, lr_best = par_combo[np.argmin(np.array(loss_))]\n",
    "    iter_best = iters_[np.argmin(np.array(loss_))]\n",
    "    print('Best:', K_best, lr_best, iter_best)\n",
    "    ## retrain the model over the training set\n",
    "    res = wp.WDL(X_train, Y_train, X_test, Y_test, q_vec=q_vec, \n",
    "                 K=K_best, max_iter=iter_best, warm_up=1, \n",
    "                 max_depth=1, early_stop=False, lr=lr_best, random_state=2022)\n",
    "    \n",
    "    alpha_test = np.zeros((n_test, K_best))\n",
    "    mu_test = np.zeros((n_test, K_best))\n",
    "    sigma_test = np.zeros((n_test, K_best))\n",
    "    \n",
    "    alpha_train = np.zeros((n_train, K_best))\n",
    "    mu_train = np.zeros((n_train, K_best))\n",
    "    sigma_train = np.zeros((n_train, K_best))\n",
    "    \n",
    "    v_lr = np.array([1] + [lr_best] * iter_best)\n",
    "    for k in range(K_best):\n",
    "        alpha_test[:, k] = wp.pred_boost(X_test, res['alpha'][k], lr_=v_lr, n_term=iter_best)\n",
    "        mu_test[:, k] = wp.pred_boost(X_test, res['mu'][k], lr_=v_lr, n_term=iter_best)\n",
    "        sigma_test[:, k] = np.exp(wp.pred_boost(X_test, res['sigma'][k], lr_=v_lr, n_term=iter_best))\n",
    "        \n",
    "        alpha_train[:, k] = wp.pred_boost(X_train, res['alpha'][k], lr_=v_lr, n_term=iter_best)\n",
    "        mu_train[:, k] = wp.pred_boost(X_train, res['mu'][k], lr_=v_lr, n_term=iter_best)\n",
    "        sigma_train[:, k] = np.exp(wp.pred_boost(X_train, res['sigma'][k], lr_=v_lr, n_term=iter_best))\n",
    "    \n",
    "    pi_test = np.exp(alpha_test)\n",
    "    pi_test = (pi_test.T / np.sum(pi_test, axis=1)).T\n",
    "    Q_test[loc_cv == i] = [wp.qgmm1d(q_vec, mu_test[j], sigma_test[j], pi_test[j]) for j in range(n_test)]\n",
    "    \n",
    "    pi_train = np.exp(alpha_train)\n",
    "    pi_train = (pi_train.T / np.sum(pi_train, axis=1)).T\n",
    "    Q_train[loc_cv != i, :, i] = [wp.qgmm1d(q_vec, mu_train[j], sigma_train[j], pi_train[j]) for j in range(n_train)]\n",
    "    Q_train[loc_cv == i, :, i] = np.nan\n",
    "    \n",
    "print('Done!')\n",
    "print('Time:', datetime.now() - time_start )"
   ]
  },
  {
   "cell_type": "code",
   "execution_count": null,
   "metadata": {},
   "outputs": [],
   "source": [
    "# evaluate the results\n",
    "RMSE = np.mean((Q_mat - Q_test)**2)\n",
    "var_y = np.mean((Q_mat - np.mean(Q_mat, axis=0))**2)\n",
    "R_sq = 1 - RMSE / var_y\n",
    "print('Test loss:', RMSE)\n",
    "print('Test R-squared:', R_sq)"
   ]
  },
  {
   "cell_type": "code",
   "execution_count": null,
   "metadata": {},
   "outputs": [],
   "source": [
    "# save prediction results\n",
    "pd.DataFrame(Q_test).to_csv('../predictions/qt_test_WDL.csv')\n",
    "np.save('../predictions/qt_train_WDL.npy', Q_train)"
   ]
  },
  {
   "cell_type": "code",
   "execution_count": null,
   "metadata": {},
   "outputs": [],
   "source": []
  },
  {
   "cell_type": "code",
   "execution_count": null,
   "metadata": {},
   "outputs": [],
   "source": []
  },
  {
   "cell_type": "code",
   "execution_count": null,
   "metadata": {},
   "outputs": [],
   "source": []
  }
 ],
 "metadata": {
  "kernelspec": {
   "display_name": "Python 3 (ipykernel)",
   "language": "python",
   "name": "python3"
  },
  "language_info": {
   "codemirror_mode": {
    "name": "ipython",
    "version": 3
   },
   "file_extension": ".py",
   "mimetype": "text/x-python",
   "name": "python",
   "nbconvert_exporter": "python",
   "pygments_lexer": "ipython3",
   "version": "3.10.4"
  }
 },
 "nbformat": 4,
 "nbformat_minor": 4
}
