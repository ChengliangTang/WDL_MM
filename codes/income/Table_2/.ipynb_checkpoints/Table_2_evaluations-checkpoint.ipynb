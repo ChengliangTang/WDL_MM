{
 "cells": [
  {
   "cell_type": "code",
   "execution_count": 1,
   "metadata": {},
   "outputs": [],
   "source": [
    "# This script evaluates the prediction performance using Gini index, poverty rate, and median income"
   ]
  },
  {
   "cell_type": "code",
   "execution_count": 2,
   "metadata": {},
   "outputs": [],
   "source": [
    "# import modules\n",
    "import numpy as np\n",
    "import pandas as pd\n",
    "import seaborn as sns\n",
    "import pickle, time, scipy, operator\n",
    "import matplotlib as mpl\n",
    "import matplotlib.colors as mcolors\n",
    "import matplotlib.cm as cm\n",
    "from scipy import interp\n",
    "from scipy.ndimage import filters\n",
    "from scipy.stats import norm\n",
    "from sklearn import tree\n",
    "from sklearn.linear_model import LinearRegression\n",
    "from datetime import datetime\n",
    "import matplotlib\n",
    "import matplotlib.pyplot as plt\n",
    "import matplotlib.animation as manimation\n",
    "from matplotlib.patches import Ellipse\n",
    "from IPython import display\n",
    "#import seaborn as sns; sns.set()\n",
    "%matplotlib inline"
   ]
  },
  {
   "cell_type": "code",
   "execution_count": 3,
   "metadata": {},
   "outputs": [],
   "source": [
    "# function definitions\n",
    "def Gini_idx(X):\n",
    "    \"\"\"\n",
    "    X: sorted income array\n",
    "    \"\"\"\n",
    "    X = np.sort(X)\n",
    "    sum_income = np.sum(X)\n",
    "    prop_income = np.cumsum(X) / sum_income\n",
    "    prop_ideal = np.arange(1, len(X)+1) / (len(X))\n",
    "    res_Gini = 1 - np.mean(prop_income) / np.mean(prop_ideal)\n",
    "    return res_Gini\n",
    "\n",
    "def median_wage(X):\n",
    "    \"\"\"\n",
    "    X: sorted income array\n",
    "    \"\"\"\n",
    "    return np.median(X)\n",
    "\n",
    "def poverty_rate(X):\n",
    "    \"\"\"\n",
    "    X: sorted income array\n",
    "    \"\"\"\n",
    "    pvt_rt = np.sum(X < 12760) / len(X)\n",
    "    return pvt_rt"
   ]
  },
  {
   "cell_type": "code",
   "execution_count": 4,
   "metadata": {},
   "outputs": [],
   "source": [
    "# load data\n",
    "## load ground truth\n",
    "Y = pd.read_csv('../../../data/income/processed/dat_Y.csv').to_numpy()\n",
    "## load quantile predictions\n",
    "Y_WDL = pd.read_csv('../predictions/qt_test_WDL.csv', index_col=0).to_numpy()\n",
    "Y_Frechet = pd.read_csv('../predictions/qt_test_Frechet.csv', index_col=0).to_numpy()\n",
    "Y_CLR = pd.read_csv('../predictions/qt_test_CLR.csv', index_col=0).to_numpy()\n",
    "## load scalar prediction of indices\n",
    "indices_linear = pd.read_csv('../predictions/pred_linear.csv', index_col=0).to_numpy()\n",
    "indices_tree = pd.read_csv('../predictions/pred_tree.csv', index_col=0).to_numpy()\n",
    "## transform data\n",
    "n_dist = Y.shape[0]\n",
    "n_levs = 99\n",
    "q_vec = np.arange(1, (n_levs+1)) / (n_levs+1)\n",
    "## transform Y\n",
    "Q_mat = np.array([np.quantile(Y[i], q_vec) for i in range(n_dist)])"
   ]
  },
  {
   "cell_type": "code",
   "execution_count": 5,
   "metadata": {},
   "outputs": [],
   "source": [
    "# create indices\n",
    "indices_ = []\n",
    "indices_WDL = []\n",
    "indices_Frechet = []\n",
    "indices_CLR = []\n",
    "for i in range(Y.shape[0]):\n",
    "    incomes_ = np.exp(Q_mat[i]) \n",
    "    indices_.append([Gini_idx(incomes_), median_wage(incomes_), poverty_rate(incomes_)])\n",
    "    incomes_ = np.exp(Y_WDL[i]) ## take exponential\n",
    "    indices_WDL.append([Gini_idx(incomes_), median_wage(incomes_), poverty_rate(incomes_)])\n",
    "    incomes_ = np.exp(Y_Frechet[i]) \n",
    "    indices_Frechet.append([Gini_idx(incomes_), median_wage(incomes_), poverty_rate(incomes_)])\n",
    "    incomes_ = np.exp(Y_CLR[i]) \n",
    "    indices_CLR.append([Gini_idx(incomes_), median_wage(incomes_), poverty_rate(incomes_)])\n",
    "indices_ = np.array(indices_)\n",
    "indices_WDL = np.array(indices_WDL)\n",
    "indices_Frechet = np.array(indices_Frechet)\n",
    "indices_CLR = np.array(indices_CLR)\n",
    "## find the outlier\n",
    "#loc = np.where(indices_CLR[:, 2] < 0.2)[0][0]"
   ]
  },
  {
   "cell_type": "code",
   "execution_count": 8,
   "metadata": {},
   "outputs": [
    {
     "name": "stdout",
     "output_type": "stream",
     "text": [
      "Gini Median Poverty\n",
      "RMSE WDL: [0.029026398885681783, 4017.4491312657087, 0.03713405269551012]\n",
      "RMSE Frechet: [0.05237650595720725, 5113.148897475095, 0.05433941609611828]\n",
      "RMSE CLR: [0.03016346945447764, 11065.044879520286, 0.03950181186817326]\n",
      "RMSE linear: [0.02974135768807214, 4433.294218915797, 0.04075083070987116]\n",
      "RMSE tree: [0.03169516824938421, 4535.967170096582, 0.03925984477814617]\n",
      "R-squared WDL: [0.2124098267529616, 0.3690459357530289, 0.2811937417996522]\n",
      "R-squared Frechet: [-1.5644073739313664, -0.02205401547357555, -0.5392071979983524]\n",
      "R-squared CLR: [0.14949561449703974, -3.7863376093015626, 0.1866055899673511]\n",
      "R-squared linear: [0.17313320737127935, 0.23166595311125848, 0.13435448457388088]\n",
      "R-squared tree: [0.060925400768686355, 0.19566535672526975, 0.19653991338895405]\n"
     ]
    }
   ],
   "source": [
    "# calculate RMSE and R-squared\n",
    "## RMSE\n",
    "RMSE_WDL = [np.sqrt(np.mean((indices_[:, i] - indices_WDL[:, i])**2)) for i in range(3)]\n",
    "RMSE_Frechet = [np.sqrt(np.mean((indices_[:, i] - indices_Frechet[:, i])**2)) for i in range(3)]\n",
    "RMSE_CLR = [np.sqrt(np.mean((indices_[:, i] - indices_CLR[:, i])**2)) for i in range(3)]\n",
    "RMSE_tree = [np.sqrt(np.mean((indices_[:, i] - indices_tree[:, i])**2)) for i in range(3)]\n",
    "RMSE_linear = [np.sqrt(np.mean((indices_[:, i] - indices_linear[:, i])**2)) for i in range(3)]\n",
    "print('Gini', 'Median', 'Poverty')\n",
    "print('RMSE WDL:', RMSE_WDL)\n",
    "print('RMSE Frechet:', RMSE_Frechet)\n",
    "print('RMSE CLR:', RMSE_CLR)\n",
    "print('RMSE linear:', RMSE_linear)\n",
    "print('RMSE tree:', RMSE_tree)\n",
    "## R-squared\n",
    "TSS = [np.var(indices_[:, i]) for i in range(3)]\n",
    "RS_WDL = [1 - np.mean((indices_[:, i] - indices_WDL[:, i])**2) / TSS[i] for i in range(3)]\n",
    "RS_Frechet = [1 - np.mean((indices_[:, i] - indices_Frechet[:, i])**2) / TSS[i] for i in range(3)]\n",
    "RS_CLR = [1 - np.mean((indices_[:, i] - indices_CLR[:, i])**2) / TSS[i] for i in range(3)]\n",
    "RS_tree = [1 - np.mean((indices_[:, i] - indices_tree[:, i])**2) / TSS[i] for i in range(3)]\n",
    "RS_linear = [1 - np.mean((indices_[:, i] - indices_linear[:, i])**2) / TSS[i] for i in range(3)]\n",
    "print('R-squared WDL:', RS_WDL)\n",
    "print('R-squared Frechet:', RS_Frechet)\n",
    "print('R-squared CLR:', RS_CLR)\n",
    "print('R-squared linear:', RS_linear)\n",
    "print('R-squared tree:', RS_tree)"
   ]
  },
  {
   "cell_type": "code",
   "execution_count": null,
   "metadata": {},
   "outputs": [],
   "source": []
  },
  {
   "cell_type": "code",
   "execution_count": null,
   "metadata": {},
   "outputs": [],
   "source": []
  },
  {
   "cell_type": "code",
   "execution_count": null,
   "metadata": {},
   "outputs": [],
   "source": []
  },
  {
   "cell_type": "code",
   "execution_count": null,
   "metadata": {},
   "outputs": [],
   "source": []
  },
  {
   "cell_type": "code",
   "execution_count": null,
   "metadata": {},
   "outputs": [],
   "source": []
  },
  {
   "cell_type": "code",
   "execution_count": null,
   "metadata": {},
   "outputs": [],
   "source": []
  },
  {
   "cell_type": "code",
   "execution_count": null,
   "metadata": {},
   "outputs": [],
   "source": []
  },
  {
   "cell_type": "code",
   "execution_count": null,
   "metadata": {},
   "outputs": [],
   "source": []
  },
  {
   "cell_type": "code",
   "execution_count": null,
   "metadata": {},
   "outputs": [],
   "source": []
  },
  {
   "cell_type": "code",
   "execution_count": null,
   "metadata": {},
   "outputs": [],
   "source": []
  },
  {
   "cell_type": "code",
   "execution_count": null,
   "metadata": {},
   "outputs": [],
   "source": []
  },
  {
   "cell_type": "code",
   "execution_count": null,
   "metadata": {},
   "outputs": [],
   "source": []
  },
  {
   "cell_type": "code",
   "execution_count": null,
   "metadata": {},
   "outputs": [],
   "source": []
  },
  {
   "cell_type": "code",
   "execution_count": null,
   "metadata": {},
   "outputs": [],
   "source": []
  },
  {
   "cell_type": "code",
   "execution_count": null,
   "metadata": {},
   "outputs": [],
   "source": []
  },
  {
   "cell_type": "code",
   "execution_count": null,
   "metadata": {},
   "outputs": [],
   "source": []
  },
  {
   "cell_type": "code",
   "execution_count": null,
   "metadata": {},
   "outputs": [],
   "source": []
  },
  {
   "cell_type": "code",
   "execution_count": null,
   "metadata": {},
   "outputs": [],
   "source": []
  },
  {
   "cell_type": "code",
   "execution_count": null,
   "metadata": {},
   "outputs": [],
   "source": []
  }
 ],
 "metadata": {
  "kernelspec": {
   "display_name": "Python 3",
   "language": "python",
   "name": "python3"
  },
  "language_info": {
   "codemirror_mode": {
    "name": "ipython",
    "version": 3
   },
   "file_extension": ".py",
   "mimetype": "text/x-python",
   "name": "python",
   "nbconvert_exporter": "python",
   "pygments_lexer": "ipython3",
   "version": "3.8.3"
  }
 },
 "nbformat": 4,
 "nbformat_minor": 4
}
