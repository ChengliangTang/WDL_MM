{
 "cells": [
  {
   "cell_type": "code",
   "execution_count": 1,
   "metadata": {},
   "outputs": [],
   "source": [
    "## This script implements the regression (linear & tree) over the indices"
   ]
  },
  {
   "cell_type": "code",
   "execution_count": 2,
   "metadata": {},
   "outputs": [],
   "source": [
    "# import modules\n",
    "import numpy as np\n",
    "import pandas as pd\n",
    "from sklearn import tree\n",
    "from sklearn.linear_model import LinearRegression\n",
    "from sklearn.tree import DecisionTreeRegressor\n",
    "from datetime import datetime\n",
    "from sklearn import linear_model\n",
    "from sklearn.model_selection import train_test_split\n",
    "from IPython import display\n",
    "#import seaborn as sns; sns.set()\n",
    "%matplotlib inline"
   ]
  },
  {
   "cell_type": "code",
   "execution_count": 3,
   "metadata": {},
   "outputs": [],
   "source": [
    "# function definition\n",
    "def Gini_idx(X):\n",
    "    \"\"\"\n",
    "    X: sorted income array\n",
    "    \"\"\"\n",
    "    sum_income = np.sum(X)\n",
    "    prop_income = np.cumsum(X) / sum_income\n",
    "    prop_ideal = np.arange(1, len(X)+1) / (len(X))\n",
    "    res_Gini = 1 - np.mean(prop_income) / np.mean(prop_ideal)\n",
    "    return res_Gini\n",
    "\n",
    "def median_wage(X):\n",
    "    \"\"\"\n",
    "    X: sorted income array\n",
    "    \"\"\"\n",
    "    return np.median(X)\n",
    "\n",
    "def poverty_rate(X):\n",
    "    \"\"\"\n",
    "    X: sorted income array\n",
    "    \"\"\"\n",
    "    pvt_rt = np.sum(X < 12760) / len(X)\n",
    "    return pvt_rt"
   ]
  },
  {
   "cell_type": "code",
   "execution_count": 4,
   "metadata": {},
   "outputs": [],
   "source": [
    "# load data\n",
    "X = pd.read_csv('../../../data/income/processed/dat_X.csv').to_numpy()\n",
    "Y = pd.read_csv('../../../data/income/processed/dat_Y.csv').to_numpy()\n",
    "loc_cv = pd.read_csv('../../../data/income/processed/dat_CV.csv').to_numpy().flatten()\n",
    "## transform data\n",
    "n_dist = X.shape[0]\n",
    "n_levs = 100\n",
    "q_vec = np.arange(1, (n_levs+1)) / (n_levs+1)\n",
    "## transform Y\n",
    "Q_mat = np.array([np.quantile(Y[i], q_vec) for i in range(n_dist)])\n",
    "## create indices\n",
    "indices_ = []\n",
    "for i in range(n_dist):\n",
    "    incomes_ = np.exp(Q_mat[i]) ## take exponential\n",
    "    indices_.append([Gini_idx(incomes_), median_wage(incomes_), poverty_rate(incomes_)])\n",
    "indices_ = np.array(indices_)"
   ]
  },
  {
   "cell_type": "code",
   "execution_count": 5,
   "metadata": {},
   "outputs": [
    {
     "name": "stdout",
     "output_type": "stream",
     "text": [
      "This is fold  1\n",
      "This is fold  2\n",
      "This is fold  3\n",
      "This is fold  4\n",
      "This is fold  5\n",
      "Time: 0:00:00.055118\n"
     ]
    }
   ],
   "source": [
    "# fit the model using nested cross validation\n",
    "n_fold = np.max(loc_cv) + 1\n",
    "time_start = datetime.now()\n",
    "train_loss = np.zeros(n_fold)\n",
    "val_loss = np.zeros(n_fold)\n",
    "## create numpy arrays to store the predictions\n",
    "Y_train_linear = np.zeros((indices_.shape[0], indices_.shape[1], n_fold))\n",
    "Y_train_tree = np.zeros((indices_.shape[0], indices_.shape[1], n_fold))\n",
    "Y_test_linear = np.zeros(indices_.shape)\n",
    "Y_test_tree = np.zeros(indices_.shape)\n",
    "## parameter set for tree regression\n",
    "depth_list = [2, 3, 5, 7, 10]\n",
    "alpha_list = [0.001, 0.01, 0.1, 1, 10]\n",
    "for id_fold in range(n_fold):\n",
    "    print('This is fold ', id_fold+1)\n",
    "    X_train = X[loc_cv != id_fold]\n",
    "    Y_train = indices_[loc_cv != id_fold]\n",
    "    X_test = X[loc_cv == id_fold]\n",
    "    X_t_in, X_v_in, Y_t_in, Y_v_in = train_test_split(X_train, Y_train, test_size=0.25, random_state=2022)\n",
    "    \n",
    "    ## inner parameter selection for linear regression\n",
    "    loss_ = []\n",
    "    for alpha in alpha_list:\n",
    "        reg_linear_init = linear_model.Lasso(alpha=alpha)\n",
    "        reg_linear_init.fit(X_t_in, Y_t_in)\n",
    "        Y_v_pred = reg_linear_init.predict(X_v_in)\n",
    "        loss_.append(np.sum((Y_v_pred - Y_v_in)**2))\n",
    "    alpha_best = alpha_list[np.argmin(np.array(loss_))]\n",
    "    reg_linear = linear_model.Lasso(alpha=alpha_best)\n",
    "    reg_linear.fit(X_train, Y_train)\n",
    "    \n",
    "    ## inner parameter selection for tree regression\n",
    "    loss_ = []\n",
    "    for depth in depth_list:\n",
    "        reg_tree_init = DecisionTreeRegressor(max_depth=depth).fit(X_t_in, Y_t_in)\n",
    "        Y_v_pred = reg_tree_init.predict(X_v_in)\n",
    "        loss_.append(np.sum((Y_v_pred - Y_v_in)**2))\n",
    "    depth_best = depth_list[np.argmin(np.array(loss_))]\n",
    "    reg_tree = DecisionTreeRegressor(max_depth=depth_best).fit(X_train, Y_train)\n",
    "\n",
    "    loc_test = np.where(loc_cv == id_fold)[0]\n",
    "    loc_train = np.where(loc_cv != id_fold)[0]\n",
    "    ## make predictions on training set\n",
    "    Y_train_linear[loc_train, :, id_fold] = reg_linear.predict(X_train)\n",
    "    Y_train_tree[loc_train, :, id_fold] = reg_tree.predict(X_train)\n",
    "    ## make predictions on test set\n",
    "    Y_test_linear[loc_test] = reg_linear.predict(X_test)\n",
    "    Y_test_tree[loc_test] = reg_tree.predict(X_test)\n",
    "    Y_train_linear[loc_test, :, id_fold] = np.nan\n",
    "    Y_train_tree[loc_test, :, id_fold] = np.nan\n",
    "    \n",
    "print('Time:', datetime.now() - time_start)\n",
    "    "
   ]
  },
  {
   "cell_type": "code",
   "execution_count": 6,
   "metadata": {},
   "outputs": [],
   "source": [
    "# save the results\n",
    "## save training results\n",
    "np.save('../predictions/train_linear.npy', Y_train_linear)\n",
    "np.save('../predictions/train_tree.npy', Y_train_tree)\n",
    "## save test results\n",
    "pd.DataFrame(Y_test_linear).to_csv('../predictions/pred_linear.csv')\n",
    "pd.DataFrame(Y_test_tree).to_csv('../predictions/pred_tree.csv')"
   ]
  },
  {
   "cell_type": "code",
   "execution_count": null,
   "metadata": {},
   "outputs": [],
   "source": []
  },
  {
   "cell_type": "code",
   "execution_count": null,
   "metadata": {},
   "outputs": [],
   "source": []
  },
  {
   "cell_type": "code",
   "execution_count": null,
   "metadata": {},
   "outputs": [],
   "source": []
  }
 ],
 "metadata": {
  "kernelspec": {
   "display_name": "Python 3",
   "language": "python",
   "name": "python3"
  },
  "language_info": {
   "codemirror_mode": {
    "name": "ipython",
    "version": 3
   },
   "file_extension": ".py",
   "mimetype": "text/x-python",
   "name": "python",
   "nbconvert_exporter": "python",
   "pygments_lexer": "ipython3",
   "version": "3.7.6"
  }
 },
 "nbformat": 4,
 "nbformat_minor": 4
}
