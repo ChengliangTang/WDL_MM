{
 "cells": [
  {
   "cell_type": "code",
   "execution_count": 1,
   "metadata": {},
   "outputs": [],
   "source": [
    "# This script prepares the data for income distribution modeling"
   ]
  },
  {
   "cell_type": "code",
   "execution_count": 2,
   "metadata": {},
   "outputs": [],
   "source": [
    "# import packages\n",
    "import os\n",
    "import numpy as np\n",
    "import pandas as pd\n",
    "import seaborn as sns\n",
    "from datetime import datetime\n",
    "import matplotlib.pyplot as plt"
   ]
  },
  {
   "cell_type": "code",
   "execution_count": 3,
   "metadata": {},
   "outputs": [],
   "source": [
    "# load data\n",
    "STATES_ = ['NY', 'CA', 'MI']\n",
    "dt_X = pd.DataFrame()\n",
    "dt_Y = pd.DataFrame()\n",
    "for STATE in STATES_:\n",
    "    dt_income = pd.read_csv('../../data/income/' + STATE + '/incomes_' + STATE + '.csv', index_col=0)\n",
    "    dt_drivers = pd.read_csv('../../data/income/' + STATE + '/raw/drivers_' + STATE + '.csv', index_col=0)\n",
    "    dt_drivers = pd.DataFrame([dt_drivers.iloc[i] for i in range(dt_drivers.shape[0]) if dt_drivers.index[i] in dt_income.index])\n",
    "    dt_X = dt_X.append(dt_drivers)\n",
    "    dt_Y = dt_Y.append(dt_income)"
   ]
  },
  {
   "cell_type": "code",
   "execution_count": 4,
   "metadata": {},
   "outputs": [],
   "source": [
    "# create data for regression\n",
    "dt_X['log_GDP_Per'] = np.log(dt_X['GDP'] / dt_X['Population'])\n",
    "dt_X['Population'] /= 1000\n",
    "X = np.array(dt_X[['Education', 'Environment', 'Population', 'log_GDP_Per', 'Crime', 'Diabetes', 'Unemployment']])\n",
    "Y = np.array(dt_Y)"
   ]
  },
  {
   "cell_type": "code",
   "execution_count": 5,
   "metadata": {},
   "outputs": [],
   "source": [
    "# 5-fold cross validation\n",
    "## create train and test (4:1)\n",
    "np.random.seed(2022)\n",
    "n_fold = 5\n",
    "loc_cv = np.random.choice(Y.shape[0], Y.shape[0], replace=False) % n_fold"
   ]
  },
  {
   "cell_type": "code",
   "execution_count": 6,
   "metadata": {},
   "outputs": [],
   "source": [
    "# save the simulated results in /output/\n",
    "pd.DataFrame(X).to_csv('../../data/income/processed/dat_X.csv', index=False)\n",
    "pd.DataFrame(Y).to_csv('../../data/income/processed/dat_Y.csv', index=False)\n",
    "pd.DataFrame(loc_cv).to_csv('../../data/income/processed/dat_CV.csv', index=False)"
   ]
  },
  {
   "cell_type": "code",
   "execution_count": null,
   "metadata": {},
   "outputs": [],
   "source": []
  },
  {
   "cell_type": "code",
   "execution_count": null,
   "metadata": {},
   "outputs": [],
   "source": []
  }
 ],
 "metadata": {
  "kernelspec": {
   "display_name": "Python 3",
   "language": "python",
   "name": "python3"
  },
  "language_info": {
   "codemirror_mode": {
    "name": "ipython",
    "version": 3
   },
   "file_extension": ".py",
   "mimetype": "text/x-python",
   "name": "python",
   "nbconvert_exporter": "python",
   "pygments_lexer": "ipython3",
   "version": "3.7.6"
  }
 },
 "nbformat": 4,
 "nbformat_minor": 4
}
