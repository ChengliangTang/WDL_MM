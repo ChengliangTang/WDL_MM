{
 "cells": [
  {
   "cell_type": "code",
   "execution_count": 1,
   "metadata": {},
   "outputs": [],
   "source": [
    "# This scripts simulated the data and save them in a CSV"
   ]
  },
  {
   "cell_type": "code",
   "execution_count": 2,
   "metadata": {},
   "outputs": [],
   "source": [
    "# import packages\n",
    "import os\n",
    "import numpy as np\n",
    "import pandas as pd"
   ]
  },
  {
   "cell_type": "markdown",
   "metadata": {},
   "source": [
    "## Simulation Formulations\n",
    "$$ X_1, X_2, X_3 \\sim i.i.d. Unif(-1, 1) $$\n",
    "\n",
    "\n",
    "\\begin{equation}\n",
    "\\mathcal{F}(\\mathcal{G} | \\mathbf{X} = x) = \\pi_1(x) \\cdot f_1(x) + \\pi_2(x) \\cdot f_2(x),\n",
    "\\label{eq:simulation}\n",
    "\\end{equation}\n",
    "where\n",
    "\\begin{equation*}\n",
    "\\begin{split}\n",
    "\\pi_1(x) = \\frac{1}{1 + \\exp(x_3)}, &\\ \\pi_2(x) = \\frac{\\exp(x_3)}{1+\\exp(x_3)}, \\\\\n",
    "f_1(x) = \\mathcal{N}\\big(x_1 + \\varepsilon, sd = |x_2|+0.5\\big),&\\ f_2(x) = \\mathcal{N}\\big(2x_2^2 + 2 + \\varepsilon, sd = |x_1|+0.5\\big),   \n",
    "\\end{split}\n",
    "\\end{equation*}\n",
    "with independent random noise variable $\\varepsilon \\sim \\mathcal{N}(0, \\omega^2)$.\n"
   ]
  },
  {
   "cell_type": "code",
   "execution_count": 15,
   "metadata": {},
   "outputs": [],
   "source": [
    "# simulate the data\n",
    "## set the parameters\n",
    "K = 2\n",
    "n_dist = 200 ## number of distributions\n",
    "n_sample = 300 ## number of points in each distribution\n",
    "omega_list = [0.1, 0.2, 0.5, 1, 2] ## choices of noise standard deviations\n",
    "id_setting = 5\n",
    "omega = omega_list[id_setting-1] \n",
    "## start simulation\n",
    "np.random.seed(2020)\n",
    "X = np.random.uniform(size=(n_dist, 3)) * 2 - 1 ## simulate X\n",
    "Y = np.zeros((n_dist, n_sample))\n",
    "for i in range(n_dist):\n",
    "    mu_1 = X[i, 0]\n",
    "    mu_2 = 2 * X[i, 1]**2 + 2\n",
    "    mu_true = [mu_1, mu_2]\n",
    "    sig_1 = np.abs(X[i, 1]) + 0.5\n",
    "    sig_2 = np.abs(X[i, 0]) + 0.5\n",
    "    sig_true = [sig_1, sig_2]\n",
    "    pi_1 = 1 / (1 + np.exp(X[i, 2]))\n",
    "    pi_true = [pi_1, 1-pi_1]\n",
    "    ## simulate noise\n",
    "    eps_noise = np.random.normal(loc=0, scale=omega, size=1)\n",
    "    ## simulate responses\n",
    "    var_gaussian = np.array([np.random.normal(loc=mu_true[k]+eps_noise, \n",
    "                                              scale=sig_true[k], \n",
    "                                              size=n_sample) for k in range(K)]).T\n",
    "    var_mult = np.random.choice(range(K), size=n_sample, replace=True, p=pi_true)\n",
    "    var_mult = np.eye(K)[var_mult]\n",
    "    var_GMM = np.sum(var_mult * var_gaussian, axis=1)\n",
    "    Y[i] = np.sort(var_GMM)\n"
   ]
  },
  {
   "cell_type": "code",
   "execution_count": 16,
   "metadata": {},
   "outputs": [],
   "source": [
    "# K-fold cross validation\n",
    "## create train and test (4:1)\n",
    "np.random.seed(2020)\n",
    "n_fold = 5\n",
    "loc_cv = np.random.choice(len(Y), len(Y), replace=False) % n_fold"
   ]
  },
  {
   "cell_type": "code",
   "execution_count": 17,
   "metadata": {},
   "outputs": [],
   "source": [
    "# save the simulated data\n",
    "target_path = '../../data/simulation/setting_' + str(id_setting)\n",
    "if not os.path.isdir(target_path):\n",
    "    os.mkdir(target_path)\n",
    "pd.DataFrame(X).to_csv(target_path + '/dat_X.csv', index=False)\n",
    "pd.DataFrame(Y).to_csv(target_path + '/dat_Y.csv', index=False)\n",
    "pd.DataFrame(loc_cv).to_csv(target_path + '/dat_CV.csv', index=False)"
   ]
  },
  {
   "cell_type": "code",
   "execution_count": null,
   "metadata": {},
   "outputs": [],
   "source": []
  },
  {
   "cell_type": "code",
   "execution_count": null,
   "metadata": {},
   "outputs": [],
   "source": []
  },
  {
   "cell_type": "code",
   "execution_count": null,
   "metadata": {},
   "outputs": [],
   "source": []
  },
  {
   "cell_type": "code",
   "execution_count": null,
   "metadata": {},
   "outputs": [],
   "source": []
  }
 ],
 "metadata": {
  "kernelspec": {
   "display_name": "Python 3",
   "language": "python",
   "name": "python3"
  },
  "language_info": {
   "codemirror_mode": {
    "name": "ipython",
    "version": 3
   },
   "file_extension": ".py",
   "mimetype": "text/x-python",
   "name": "python",
   "nbconvert_exporter": "python",
   "pygments_lexer": "ipython3",
   "version": "3.8.3"
  }
 },
 "nbformat": 4,
 "nbformat_minor": 4
}
