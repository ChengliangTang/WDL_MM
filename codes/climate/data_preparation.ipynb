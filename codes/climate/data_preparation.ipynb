{
 "cells": [
  {
   "cell_type": "code",
   "execution_count": 8,
   "metadata": {},
   "outputs": [],
   "source": [
    "# This script prepares the quantile data for regression"
   ]
  },
  {
   "cell_type": "code",
   "execution_count": 9,
   "metadata": {},
   "outputs": [],
   "source": [
    "# import packages\n",
    "import os\n",
    "import numpy as np\n",
    "import pandas as pd\n",
    "from datetime import datetime"
   ]
  },
  {
   "cell_type": "code",
   "execution_count": 10,
   "metadata": {},
   "outputs": [],
   "source": [
    "# load data\n",
    "## load radiative forcings\n",
    "df_rf = pd.read_csv('../data/raw/fullDat.csv', index_col=0)\n",
    "df_rf = df_rf[['Year', 'GHG', 'Volcanic', 'Solar', 'ENSO']]\n",
    "## load temperatures\n",
    "df_temp = pd.read_table('../data/raw/Complete_TAVG_daily.txt', sep=' ', header=None)\n",
    "df_temp = df_temp[[2, 5, 6]]\n",
    "df_temp.columns = ['YEAR', 'DAY', 'TEMP']"
   ]
  },
  {
   "cell_type": "code",
   "execution_count": 11,
   "metadata": {},
   "outputs": [],
   "source": [
    "# data cleaning\n",
    "## create a temperature dictionary: year - daily temperatures\n",
    "temp_dict = {}\n",
    "year_start = 1880\n",
    "year_end = 2012\n",
    "for i in range(df_temp.shape[0]):\n",
    "    year_now = df_temp['YEAR'].iloc[i]\n",
    "    if year_now < year_start or year_now > year_end:\n",
    "        continue\n",
    "    if year_now in temp_dict.keys():\n",
    "        temp_dict[year_now].append(df_temp['TEMP'].iloc[i])\n",
    "    else:\n",
    "        temp_dict[year_now] = [df_temp['TEMP'].iloc[i]]\n",
    "## filter out year by threshold\n",
    "THRESH = 355\n",
    "year_select = [year_now for year_now in temp_dict.keys() if len(temp_dict[year_now]) >= THRESH]"
   ]
  },
  {
   "cell_type": "code",
   "execution_count": 12,
   "metadata": {},
   "outputs": [],
   "source": [
    "# create data for regression\n",
    "n_levs = 300\n",
    "q_vec = np.arange(1, (n_levs+1)) / (n_levs+1)\n",
    "X = np.array(df_rf[(df_rf['Year']>=1860) & (df_rf['Year']<= 2012)][['GHG', 'Volcanic', 'Solar', 'ENSO']])\n",
    "Y = np.array([np.quantile(temp_dict[year_now], q_vec) for year_now in year_select])"
   ]
  },
  {
   "cell_type": "code",
   "execution_count": 13,
   "metadata": {},
   "outputs": [],
   "source": [
    "# K-fold cross validation\n",
    "## create train and test (4:1)\n",
    "np.random.seed(2022)\n",
    "n_fold = 5\n",
    "loc_cv = np.random.choice(len(Y), len(Y), replace=False) % n_fold"
   ]
  },
  {
   "cell_type": "code",
   "execution_count": 14,
   "metadata": {},
   "outputs": [],
   "source": [
    "# save the simulated results in /output/\n",
    "pd.DataFrame(X).to_csv('../data/processed/dat_X.csv', index=False)\n",
    "pd.DataFrame(Y).to_csv('../data/processed/dat_Y.csv', index=False)\n",
    "pd.DataFrame(loc_cv).to_csv('../data/processed/dat_CV.csv', index=False)"
   ]
  },
  {
   "cell_type": "code",
   "execution_count": null,
   "metadata": {},
   "outputs": [],
   "source": []
  }
 ],
 "metadata": {
  "kernelspec": {
   "display_name": "Python 3 (ipykernel)",
   "language": "python",
   "name": "python3"
  },
  "language_info": {
   "codemirror_mode": {
    "name": "ipython",
    "version": 3
   },
   "file_extension": ".py",
   "mimetype": "text/x-python",
   "name": "python",
   "nbconvert_exporter": "python",
   "pygments_lexer": "ipython3",
   "version": "3.9.7"
  }
 },
 "nbformat": 4,
 "nbformat_minor": 4
}
