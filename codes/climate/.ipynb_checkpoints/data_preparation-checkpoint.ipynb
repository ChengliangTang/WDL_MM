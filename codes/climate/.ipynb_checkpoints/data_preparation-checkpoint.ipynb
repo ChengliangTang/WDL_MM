{
 "cells": [
  {
   "cell_type": "code",
   "execution_count": 1,
   "metadata": {},
   "outputs": [],
   "source": [
    "# This script prepares the quantile data for regression"
   ]
  },
  {
   "cell_type": "code",
   "execution_count": 2,
   "metadata": {},
   "outputs": [],
   "source": [
    "# import packages\n",
    "import os\n",
    "import numpy as np\n",
    "import pandas as pd\n",
    "from datetime import datetime"
   ]
  },
  {
   "cell_type": "code",
   "execution_count": 3,
   "metadata": {},
   "outputs": [],
   "source": [
    "# load data\n",
    "## load radiative forcings\n",
    "df_rf = pd.read_csv('../../data/climate/raw/radiative-forcings.csv', index_col=0)\n",
    "## load temperatures\n",
    "df_temp = pd.read_table('../../data/climate/raw/Complete_TAVG_daily.txt', sep=' ', header=None)\n",
    "df_temp = df_temp[[2, 5, 6]]\n",
    "df_temp = df_temp[df_temp[2] <= max(df_rf.index)]\n",
    "df_temp.columns = ['YEAR', 'DAY', 'TEMP']"
   ]
  },
  {
   "cell_type": "code",
   "execution_count": 4,
   "metadata": {},
   "outputs": [],
   "source": [
    "# data cleaning\n",
    "## create a temperature dictionary: year - daily temperatures\n",
    "temp_dict = {}\n",
    "for i in range(df_temp.shape[0]):\n",
    "    year_now = df_temp['YEAR'].iloc[i]\n",
    "    if year_now > 2011:\n",
    "        break\n",
    "    if year_now in temp_dict.keys():\n",
    "        temp_dict[year_now].append(df_temp['TEMP'].iloc[i])\n",
    "    else:\n",
    "        temp_dict[year_now] = [df_temp['TEMP'].iloc[i]]\n",
    "## filter out year by threshold\n",
    "THRESH = 355\n",
    "year_select = [year_now for year_now in temp_dict.keys() if len(temp_dict[year_now]) >= THRESH]"
   ]
  },
  {
   "cell_type": "code",
   "execution_count": 5,
   "metadata": {},
   "outputs": [],
   "source": [
    "# create data for regression\n",
    "n_levs = 300\n",
    "q_vec = np.arange(1, (n_levs+1)) / (n_levs+1)\n",
    "X = np.array(df_rf[['CO2', 'Solar', 'Volcano']].loc[year_select])\n",
    "Y = np.array([np.quantile(temp_dict[year_now], q_vec) for year_now in year_select])"
   ]
  },
  {
   "cell_type": "code",
   "execution_count": 6,
   "metadata": {},
   "outputs": [],
   "source": [
    "# K-fold cross validation\n",
    "## create train and test (4:1)\n",
    "np.random.seed(2020)\n",
    "n_fold = 5\n",
    "loc_cv = np.random.choice(len(Y), len(Y), replace=False) % n_fold"
   ]
  },
  {
   "cell_type": "code",
   "execution_count": 7,
   "metadata": {},
   "outputs": [],
   "source": [
    "# save the simulated results in /output/\n",
    "pd.DataFrame(X).to_csv('../../data/climate/processed/dat_X.csv', index=False)\n",
    "pd.DataFrame(Y).to_csv('../../data/climate/processed/dat_Y.csv', index=False)\n",
    "pd.DataFrame(loc_cv).to_csv('../../data/climate/processed/dat_CV.csv', index=False)"
   ]
  }
 ],
 "metadata": {
  "kernelspec": {
   "display_name": "Python 3",
   "language": "python",
   "name": "python3"
  },
  "language_info": {
   "codemirror_mode": {
    "name": "ipython",
    "version": 3
   },
   "file_extension": ".py",
   "mimetype": "text/x-python",
   "name": "python",
   "nbconvert_exporter": "python",
   "pygments_lexer": "ipython3",
   "version": "3.8.3"
  }
 },
 "nbformat": 4,
 "nbformat_minor": 4
}
